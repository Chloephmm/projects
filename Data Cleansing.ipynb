{
 "cells": [
  {
   "cell_type": "markdown",
   "id": "4c4d7c92",
   "metadata": {},
   "source": [
    "# Data Cleansing"
   ]
  },
  {
   "cell_type": "markdown",
   "id": "b4cf198d",
   "metadata": {},
   "source": [
    "### Import Python libraries"
   ]
  },
  {
   "cell_type": "code",
   "execution_count": 1,
   "id": "0189ac0a",
   "metadata": {},
   "outputs": [],
   "source": [
    "import matplotlib as mpl\n",
    "import matplotlib.pyplot as plt \n",
    "%matplotlib inline\n",
    "import seaborn as sns\n",
    "import pandas as pd\n",
    "import statsmodels.api as sm\n",
    "sns.set_style(\"darkgrid\")\n",
    "mpl.rcParams['figure.figsize'] = (20,5)"
   ]
  },
  {
   "cell_type": "markdown",
   "id": "bcaf0466",
   "metadata": {},
   "source": [
    "### Import dataset"
   ]
  },
  {
   "cell_type": "code",
   "execution_count": 2,
   "id": "2e74ed32",
   "metadata": {
    "scrolled": false
   },
   "outputs": [
    {
     "name": "stdout",
     "output_type": "stream",
     "text": [
      "<class 'pandas.core.frame.DataFrame'>\n",
      "RangeIndex: 307973 entries, 0 to 307972\n",
      "Data columns (total 21 columns):\n",
      " #   Column                      Non-Null Count   Dtype  \n",
      "---  ------                      --------------   -----  \n",
      " 0   Accident_Index              307973 non-null  object \n",
      " 1   Accident Date               307973 non-null  object \n",
      " 2   Day_of_Week                 307973 non-null  object \n",
      " 3   Junction_Control            307973 non-null  object \n",
      " 4   Junction_Detail             307973 non-null  object \n",
      " 5   Accident_Severity           307973 non-null  object \n",
      " 6   Latitude                    307973 non-null  float64\n",
      " 7   Light_Conditions            307973 non-null  object \n",
      " 8   Local_Authority_(District)  307973 non-null  object \n",
      " 9   Carriageway_Hazards         5424 non-null    object \n",
      " 10  Longitude                   307973 non-null  float64\n",
      " 11  Number_of_Casualties        307973 non-null  int64  \n",
      " 12  Number_of_Vehicles          307973 non-null  int64  \n",
      " 13  Police_Force                307973 non-null  object \n",
      " 14  Road_Surface_Conditions     307656 non-null  object \n",
      " 15  Road_Type                   306439 non-null  object \n",
      " 16  Speed_limit                 307973 non-null  int64  \n",
      " 17  Time                        307956 non-null  object \n",
      " 18  Urban_or_Rural_Area         307973 non-null  object \n",
      " 19  Weather_Conditions          301916 non-null  object \n",
      " 20  Vehicle_Type                307973 non-null  object \n",
      "dtypes: float64(2), int64(3), object(16)\n",
      "memory usage: 49.3+ MB\n"
     ]
    }
   ],
   "source": [
    "car_accidents=pd.read_csv(\"/Users/giangpham/Documents/upskill/Data UMGC/capstone/Road Accident Data.csv\")\n",
    "car_accidents.info()"
   ]
  },
  {
   "cell_type": "code",
   "execution_count": 3,
   "id": "d4214074",
   "metadata": {
    "scrolled": false
   },
   "outputs": [
    {
     "data": {
      "text/html": [
       "<div>\n",
       "<style scoped>\n",
       "    .dataframe tbody tr th:only-of-type {\n",
       "        vertical-align: middle;\n",
       "    }\n",
       "\n",
       "    .dataframe tbody tr th {\n",
       "        vertical-align: top;\n",
       "    }\n",
       "\n",
       "    .dataframe thead th {\n",
       "        text-align: right;\n",
       "    }\n",
       "</style>\n",
       "<table border=\"1\" class=\"dataframe\">\n",
       "  <thead>\n",
       "    <tr style=\"text-align: right;\">\n",
       "      <th></th>\n",
       "      <th>Accident_Index</th>\n",
       "      <th>Accident Date</th>\n",
       "      <th>Day_of_Week</th>\n",
       "      <th>Junction_Control</th>\n",
       "      <th>Junction_Detail</th>\n",
       "      <th>Accident_Severity</th>\n",
       "      <th>Latitude</th>\n",
       "      <th>Light_Conditions</th>\n",
       "      <th>Local_Authority_(District)</th>\n",
       "      <th>Carriageway_Hazards</th>\n",
       "      <th>...</th>\n",
       "      <th>Number_of_Casualties</th>\n",
       "      <th>Number_of_Vehicles</th>\n",
       "      <th>Police_Force</th>\n",
       "      <th>Road_Surface_Conditions</th>\n",
       "      <th>Road_Type</th>\n",
       "      <th>Speed_limit</th>\n",
       "      <th>Time</th>\n",
       "      <th>Urban_or_Rural_Area</th>\n",
       "      <th>Weather_Conditions</th>\n",
       "      <th>Vehicle_Type</th>\n",
       "    </tr>\n",
       "  </thead>\n",
       "  <tbody>\n",
       "    <tr>\n",
       "      <th>0</th>\n",
       "      <td>200901BS70001</td>\n",
       "      <td>1/1/2021</td>\n",
       "      <td>Thursday</td>\n",
       "      <td>Give way or uncontrolled</td>\n",
       "      <td>T or staggered junction</td>\n",
       "      <td>Serious</td>\n",
       "      <td>51.512273</td>\n",
       "      <td>Daylight</td>\n",
       "      <td>Kensington and Chelsea</td>\n",
       "      <td>NaN</td>\n",
       "      <td>...</td>\n",
       "      <td>1</td>\n",
       "      <td>2</td>\n",
       "      <td>Metropolitan Police</td>\n",
       "      <td>Dry</td>\n",
       "      <td>One way street</td>\n",
       "      <td>30</td>\n",
       "      <td>15:11</td>\n",
       "      <td>Urban</td>\n",
       "      <td>Fine no high winds</td>\n",
       "      <td>Car</td>\n",
       "    </tr>\n",
       "    <tr>\n",
       "      <th>1</th>\n",
       "      <td>200901BS70002</td>\n",
       "      <td>1/5/2021</td>\n",
       "      <td>Monday</td>\n",
       "      <td>Give way or uncontrolled</td>\n",
       "      <td>Crossroads</td>\n",
       "      <td>Serious</td>\n",
       "      <td>51.514399</td>\n",
       "      <td>Daylight</td>\n",
       "      <td>Kensington and Chelsea</td>\n",
       "      <td>NaN</td>\n",
       "      <td>...</td>\n",
       "      <td>11</td>\n",
       "      <td>2</td>\n",
       "      <td>Metropolitan Police</td>\n",
       "      <td>Wet or damp</td>\n",
       "      <td>Single carriageway</td>\n",
       "      <td>30</td>\n",
       "      <td>10:59</td>\n",
       "      <td>Urban</td>\n",
       "      <td>Fine no high winds</td>\n",
       "      <td>Taxi/Private hire car</td>\n",
       "    </tr>\n",
       "    <tr>\n",
       "      <th>2</th>\n",
       "      <td>200901BS70003</td>\n",
       "      <td>1/4/2021</td>\n",
       "      <td>Sunday</td>\n",
       "      <td>Give way or uncontrolled</td>\n",
       "      <td>T or staggered junction</td>\n",
       "      <td>Slight</td>\n",
       "      <td>51.486668</td>\n",
       "      <td>Daylight</td>\n",
       "      <td>Kensington and Chelsea</td>\n",
       "      <td>NaN</td>\n",
       "      <td>...</td>\n",
       "      <td>1</td>\n",
       "      <td>2</td>\n",
       "      <td>Metropolitan Police</td>\n",
       "      <td>Dry</td>\n",
       "      <td>Single carriageway</td>\n",
       "      <td>30</td>\n",
       "      <td>14:19</td>\n",
       "      <td>Urban</td>\n",
       "      <td>Fine no high winds</td>\n",
       "      <td>Taxi/Private hire car</td>\n",
       "    </tr>\n",
       "    <tr>\n",
       "      <th>3</th>\n",
       "      <td>200901BS70004</td>\n",
       "      <td>1/5/2021</td>\n",
       "      <td>Monday</td>\n",
       "      <td>Auto traffic signal</td>\n",
       "      <td>T or staggered junction</td>\n",
       "      <td>Serious</td>\n",
       "      <td>51.507804</td>\n",
       "      <td>Daylight</td>\n",
       "      <td>Kensington and Chelsea</td>\n",
       "      <td>NaN</td>\n",
       "      <td>...</td>\n",
       "      <td>1</td>\n",
       "      <td>2</td>\n",
       "      <td>Metropolitan Police</td>\n",
       "      <td>Frost or ice</td>\n",
       "      <td>Single carriageway</td>\n",
       "      <td>30</td>\n",
       "      <td>8:10</td>\n",
       "      <td>Urban</td>\n",
       "      <td>Other</td>\n",
       "      <td>Motorcycle over 500cc</td>\n",
       "    </tr>\n",
       "    <tr>\n",
       "      <th>4</th>\n",
       "      <td>200901BS70005</td>\n",
       "      <td>1/6/2021</td>\n",
       "      <td>Tuesday</td>\n",
       "      <td>Auto traffic signal</td>\n",
       "      <td>Crossroads</td>\n",
       "      <td>Serious</td>\n",
       "      <td>51.482076</td>\n",
       "      <td>Darkness - lights lit</td>\n",
       "      <td>Kensington and Chelsea</td>\n",
       "      <td>NaN</td>\n",
       "      <td>...</td>\n",
       "      <td>1</td>\n",
       "      <td>2</td>\n",
       "      <td>Metropolitan Police</td>\n",
       "      <td>Dry</td>\n",
       "      <td>Single carriageway</td>\n",
       "      <td>30</td>\n",
       "      <td>17:25</td>\n",
       "      <td>Urban</td>\n",
       "      <td>Fine no high winds</td>\n",
       "      <td>Car</td>\n",
       "    </tr>\n",
       "  </tbody>\n",
       "</table>\n",
       "<p>5 rows × 21 columns</p>\n",
       "</div>"
      ],
      "text/plain": [
       "  Accident_Index Accident Date Day_of_Week          Junction_Control  \\\n",
       "0  200901BS70001      1/1/2021    Thursday  Give way or uncontrolled   \n",
       "1  200901BS70002      1/5/2021      Monday  Give way or uncontrolled   \n",
       "2  200901BS70003      1/4/2021      Sunday  Give way or uncontrolled   \n",
       "3  200901BS70004      1/5/2021      Monday       Auto traffic signal   \n",
       "4  200901BS70005      1/6/2021     Tuesday       Auto traffic signal   \n",
       "\n",
       "           Junction_Detail Accident_Severity   Latitude  \\\n",
       "0  T or staggered junction           Serious  51.512273   \n",
       "1               Crossroads           Serious  51.514399   \n",
       "2  T or staggered junction            Slight  51.486668   \n",
       "3  T or staggered junction           Serious  51.507804   \n",
       "4               Crossroads           Serious  51.482076   \n",
       "\n",
       "        Light_Conditions Local_Authority_(District) Carriageway_Hazards  ...  \\\n",
       "0               Daylight     Kensington and Chelsea                 NaN  ...   \n",
       "1               Daylight     Kensington and Chelsea                 NaN  ...   \n",
       "2               Daylight     Kensington and Chelsea                 NaN  ...   \n",
       "3               Daylight     Kensington and Chelsea                 NaN  ...   \n",
       "4  Darkness - lights lit     Kensington and Chelsea                 NaN  ...   \n",
       "\n",
       "   Number_of_Casualties  Number_of_Vehicles         Police_Force  \\\n",
       "0                     1                   2  Metropolitan Police   \n",
       "1                    11                   2  Metropolitan Police   \n",
       "2                     1                   2  Metropolitan Police   \n",
       "3                     1                   2  Metropolitan Police   \n",
       "4                     1                   2  Metropolitan Police   \n",
       "\n",
       "  Road_Surface_Conditions           Road_Type Speed_limit   Time  \\\n",
       "0                     Dry      One way street          30  15:11   \n",
       "1             Wet or damp  Single carriageway          30  10:59   \n",
       "2                     Dry  Single carriageway          30  14:19   \n",
       "3            Frost or ice  Single carriageway          30   8:10   \n",
       "4                     Dry  Single carriageway          30  17:25   \n",
       "\n",
       "  Urban_or_Rural_Area  Weather_Conditions           Vehicle_Type  \n",
       "0               Urban  Fine no high winds                    Car  \n",
       "1               Urban  Fine no high winds  Taxi/Private hire car  \n",
       "2               Urban  Fine no high winds  Taxi/Private hire car  \n",
       "3               Urban               Other  Motorcycle over 500cc  \n",
       "4               Urban  Fine no high winds                    Car  \n",
       "\n",
       "[5 rows x 21 columns]"
      ]
     },
     "execution_count": 3,
     "metadata": {},
     "output_type": "execute_result"
    }
   ],
   "source": [
    "car_accidents.head()"
   ]
  },
  {
   "cell_type": "markdown",
   "id": "8dc2d6e6",
   "metadata": {},
   "source": [
    "### Insights"
   ]
  },
  {
   "cell_type": "markdown",
   "id": "784d6307",
   "metadata": {},
   "source": [
    "* Recent trends in road accidents in London have begun to normalize after the coronavirus pandemic restriction. During the pandemic (2020-2021), traffic levels dropped significantly, and as a result, the number of people injured decreased. However, in 2022, there has been a return to more standard figures and injury patterns, aligning with the resurgence in travel after the easing of coronavirus restrictions. There were 23,465 reported collisions in London in 2022, resulting in 102 people being killed, 3,859 being seriously injured and 23,246 being slightly injured. (According to Transport For London).\n",
    "\n",
    "* We will focused on these issues:\n",
    "    - **Weather conditions:**\n",
    "Describes the weather conditions at the time of the accident.\n",
    "(Fine no high winds, Raining no high winds, Snowing no high winds, Raining and high winds, other).\n",
    "    - **Road_surface_condition:**\n",
    "Describes the surface conditions of the road at the time of the accident.\n",
    "(Dry, Wet or Damp, Frost or Ice, Snow, Flood over 3cm deep).\n",
    "    - **Light conditions:**\n",
    "Describes the lighting conditions at the time of the accident.\n",
    "(Daylight, Darkness – light lit, Darkness – no lighting, Darkness – lighting unknown, Darkness – lights unlit).\n"
   ]
  },
  {
   "cell_type": "markdown",
   "id": "b96acf3a",
   "metadata": {},
   "source": [
    "### Data Cleansing"
   ]
  },
  {
   "cell_type": "markdown",
   "id": "21f62590",
   "metadata": {},
   "source": [
    "<span style=\"color:blue\">Drop unused columns</span>"
   ]
  },
  {
   "cell_type": "code",
   "execution_count": 4,
   "id": "5c663ad6",
   "metadata": {
    "scrolled": true
   },
   "outputs": [],
   "source": [
    "car_accidents=car_accidents.drop(columns=['Carriageway_Hazards','Junction_Control','Junction_Detail','Police_Force'])\n"
   ]
  },
  {
   "cell_type": "markdown",
   "id": "ebaec59b",
   "metadata": {},
   "source": [
    "<span style=\"color:blue\">Replace string 'Fetal' with 'Fatal' for simplicity</span>"
   ]
  },
  {
   "cell_type": "code",
   "execution_count": 5,
   "id": "e18e36f1",
   "metadata": {},
   "outputs": [],
   "source": [
    "car_accidents['Accident_Severity'].replace('Fetal','Fatal',inplace=True)"
   ]
  },
  {
   "cell_type": "markdown",
   "id": "7b9e61b9",
   "metadata": {},
   "source": [
    "<span style=\"color:blue\">Group and Remove Invalid data</span>\n",
    "\n",
    "- Remove Raining no high winds, Raining high winds, and Dry Road, since it does not make sense when it's rain, the road is dry"
   ]
  },
  {
   "cell_type": "code",
   "execution_count": 6,
   "id": "6beca931",
   "metadata": {},
   "outputs": [],
   "source": [
    "grouped = car_accidents.groupby(['Weather_Conditions', 'Road_Surface_Conditions'])\n",
    "filtered_df=grouped.filter(\n",
    "    lambda x: not (('Raining + high winds' in x['Weather_Conditions'].values and 'Dry' in x['Road_Surface_Conditions'].values) or \n",
    "                   ('Raining no high winds' in x['Weather_Conditions'].values and 'Dry' in x['Road_Surface_Conditions'].values))\n",
    ")"
   ]
  },
  {
   "cell_type": "markdown",
   "id": "d3a4be4b",
   "metadata": {},
   "source": [
    "<span style=\"color:blue\">Check for Null values</span>"
   ]
  },
  {
   "cell_type": "code",
   "execution_count": 7,
   "id": "71c89589",
   "metadata": {},
   "outputs": [
    {
     "data": {
      "text/plain": [
       "Road_Type                     1353\n",
       "Time                            16\n",
       "Accident_Index                   0\n",
       "Number_of_Vehicles               0\n",
       "Weather_Conditions               0\n",
       "Urban_or_Rural_Area              0\n",
       "Speed_limit                      0\n",
       "Road_Surface_Conditions          0\n",
       "Number_of_Casualties             0\n",
       "Accident Date                    0\n",
       "Longitude                        0\n",
       "Local_Authority_(District)       0\n",
       "Light_Conditions                 0\n",
       "Latitude                         0\n",
       "Accident_Severity                0\n",
       "Day_of_Week                      0\n",
       "Vehicle_Type                     0\n",
       "dtype: int64"
      ]
     },
     "execution_count": 7,
     "metadata": {},
     "output_type": "execute_result"
    }
   ],
   "source": [
    "filtered_df.isnull().sum().sort_values(ascending=False)"
   ]
  },
  {
   "cell_type": "markdown",
   "id": "6ff03fce",
   "metadata": {},
   "source": [
    "<span style=\"color:blue\">Handling missing values</span>"
   ]
  },
  {
   "cell_type": "code",
   "execution_count": 8,
   "id": "14ecb3e0",
   "metadata": {},
   "outputs": [],
   "source": [
    "filtered_df=filtered_df.dropna()"
   ]
  },
  {
   "cell_type": "markdown",
   "id": "95806a61",
   "metadata": {},
   "source": [
    "<span style=\"color:blue\">Convert to datetime</span>"
   ]
  },
  {
   "cell_type": "code",
   "execution_count": 9,
   "id": "fd999fd5",
   "metadata": {
    "scrolled": false
   },
   "outputs": [],
   "source": [
    "# 'Accident Date' columns\n",
    "filtered_df['Accident Date'] = pd.to_datetime(filtered_df['Accident Date'],format='%m/%d/%Y')\n",
    "\n",
    "# 'Time' columns\n",
    "filtered_df['Time'] = pd.to_datetime(filtered_df['Time'],format='%H:%M')\n"
   ]
  },
  {
   "cell_type": "markdown",
   "id": "9a9fa2ee",
   "metadata": {},
   "source": [
    "<span style=\"color:blue\">Check information</span>"
   ]
  },
  {
   "cell_type": "code",
   "execution_count": 10,
   "id": "9f031d1c",
   "metadata": {
    "scrolled": true
   },
   "outputs": [
    {
     "name": "stdout",
     "output_type": "stream",
     "text": [
      "<class 'pandas.core.frame.DataFrame'>\n",
      "Index: 300215 entries, 0 to 307972\n",
      "Data columns (total 17 columns):\n",
      " #   Column                      Non-Null Count   Dtype         \n",
      "---  ------                      --------------   -----         \n",
      " 0   Accident_Index              300215 non-null  object        \n",
      " 1   Accident Date               300215 non-null  datetime64[ns]\n",
      " 2   Day_of_Week                 300215 non-null  object        \n",
      " 3   Accident_Severity           300215 non-null  object        \n",
      " 4   Latitude                    300215 non-null  float64       \n",
      " 5   Light_Conditions            300215 non-null  object        \n",
      " 6   Local_Authority_(District)  300215 non-null  object        \n",
      " 7   Longitude                   300215 non-null  float64       \n",
      " 8   Number_of_Casualties        300215 non-null  int64         \n",
      " 9   Number_of_Vehicles          300215 non-null  int64         \n",
      " 10  Road_Surface_Conditions     300215 non-null  object        \n",
      " 11  Road_Type                   300215 non-null  object        \n",
      " 12  Speed_limit                 300215 non-null  int64         \n",
      " 13  Time                        300215 non-null  datetime64[ns]\n",
      " 14  Urban_or_Rural_Area         300215 non-null  object        \n",
      " 15  Weather_Conditions          300215 non-null  object        \n",
      " 16  Vehicle_Type                300215 non-null  object        \n",
      "dtypes: datetime64[ns](2), float64(2), int64(3), object(10)\n",
      "memory usage: 41.2+ MB\n"
     ]
    }
   ],
   "source": [
    "filtered_df.info()"
   ]
  },
  {
   "cell_type": "markdown",
   "id": "d34c2f67",
   "metadata": {},
   "source": [
    "<span style=\"color:blue\">Export as new data</span>"
   ]
  },
  {
   "cell_type": "code",
   "execution_count": 12,
   "id": "f7fb8191",
   "metadata": {},
   "outputs": [],
   "source": [
    "# car_accidents.to_csv('clean_version_new.csv',index=False)"
   ]
  }
 ],
 "metadata": {
  "kernelspec": {
   "display_name": "Python 3 (ipykernel)",
   "language": "python",
   "name": "python3"
  },
  "language_info": {
   "codemirror_mode": {
    "name": "ipython",
    "version": 3
   },
   "file_extension": ".py",
   "mimetype": "text/x-python",
   "name": "python",
   "nbconvert_exporter": "python",
   "pygments_lexer": "ipython3",
   "version": "3.11.5"
  }
 },
 "nbformat": 4,
 "nbformat_minor": 5
}
